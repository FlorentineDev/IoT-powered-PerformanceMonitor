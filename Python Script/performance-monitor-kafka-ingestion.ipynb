{
 "cells": [
  {
   "cell_type": "code",
   "execution_count": null,
   "metadata": {},
   "outputs": [],
   "source": [
    "from confluent_kafka import Producer\n",
    "import json\n",
    "import time\n",
    "import csv\n",
    "import json\n",
    "import os, shutil"
   ]
  },
  {
   "cell_type": "code",
   "execution_count": null,
   "metadata": {},
   "outputs": [],
   "source": [
    "def find_rename_csv_file(directory):\n",
    "    # Check if the directory exists\n",
    "    if not os.path.exists(directory):\n",
    "        print(f\"Directory '{directory}' does not exist.\")\n",
    "        return None\n",
    "\n",
    "    # Traverse through the directory and its subdirectories\n",
    "    for root, dirs, files in os.walk(directory):\n",
    "        for file in files:\n",
    "            # Check if the file is a CSV file\n",
    "            if file.endswith('.csv'):\n",
    "                new_name = os.path.join(root,file.split(\".\")[0] +\"__\"+ root.split(\"\\\\\")[-1] +\".csv\")\n",
    "                os.rename(os.path.join(root, file), new_name)\n",
    "                return new_name\n",
    "\n",
    "    print(f\"No CSV files found in '{directory}' or its subdirectories.\")\n",
    "    return None"
   ]
  },
  {
   "cell_type": "code",
   "execution_count": null,
   "metadata": {},
   "outputs": [],
   "source": [
    "def move_file(source_file_path, destination_folder):\n",
    "    # Check if the source file exists\n",
    "    if not os.path.exists(source_file_path):\n",
    "        print(f\"Source file '{source_file_path}' does not exist.\")\n",
    "        return\n",
    "    \n",
    "    # Check if the destination folder exists, if not, create it\n",
    "    if not os.path.exists(destination_folder):\n",
    "        os.makedirs(destination_folder)\n",
    "    \n",
    "    # Extract the filename from the source file path\n",
    "    file_name = os.path.basename(source_file_path)\n",
    "    \n",
    "    # Move the file to the destination folder\n",
    "    destination_path = os.path.join(destination_folder, file_name)\n",
    "    shutil.move(source_file_path, destination_path)\n",
    "    print(f\"Moved '{file_name}' to '{destination_folder}'.\")\n",
    "    return destination_path"
   ]
  },
  {
   "cell_type": "code",
   "execution_count": null,
   "metadata": {},
   "outputs": [],
   "source": [
    "def csv_to_json(csv_file, json_file):\n",
    "    # Open the CSV file and load data into a Python dictionary\n",
    "    with open(csv_file, 'r') as file:\n",
    "        csv_data = csv.DictReader(file)\n",
    "        data = [row for row in csv_data]\n",
    "\n",
    "    # Write the Python dictionary into a JSON file\n",
    "    with open(json_file, 'w') as jsonfile:\n",
    "        jsonfile.write(json.dumps(data))\n",
    "\n",
    "    return json.dumps(data)"
   ]
  },
  {
   "cell_type": "code",
   "execution_count": null,
   "metadata": {},
   "outputs": [],
   "source": [
    "class KafkaProducer:\n",
    "    def __init__(self):\n",
    "        self.topic = \"xxxx\"\n",
    "        self.conf = {'bootstrap.servers': 'xxxx',\n",
    "                     'security.protocol': 'xxxx',\n",
    "                     'sasl.mechanism': 'xxxx',\n",
    "                     'sasl.username': 'xxxx',\n",
    "                     'sasl.password': 'xxxx',\n",
    "                     'client.id': \"xxxx\"}\n",
    "        \n",
    "\n",
    "    def delivery_callback(self, err, msg):\n",
    "        if err:\n",
    "            print('ERROR: Message failed delivery: {}'.format(err))\n",
    "        else:\n",
    "            key = msg.key().decode('utf-8')\n",
    "\n",
    "    def produce_invoices(self, producer,csv_file_path):\n",
    "\n",
    "        timestamp_ms = int(time.time() * 1000)\n",
    "        json_data=csv_to_json(csv_file_path,\"myjson.json\")\n",
    "        producer.produce(self.topic, key=str(1), timestamp=timestamp_ms ,value=json_data, callback=self.delivery_callback)\n",
    "        print(f\"File: {csv_file_path} --> imported\")\n",
    "        \n",
    "\n",
    "    def start(self, csv_file_path):\n",
    "        kafka_producer = Producer(self.conf)\n",
    "        self.produce_invoices(kafka_producer,csv_file_path)\n",
    "        kafka_producer.flush()"
   ]
  },
  {
   "cell_type": "code",
   "execution_count": null,
   "metadata": {},
   "outputs": [],
   "source": [
    "if __name__ == \"__main__\":\n",
    "\n",
    "    directory_path = 'C:\\PerfLogs\\Admin\\MyLogger'\n",
    "    destination_folder = 'C:\\\\PerfLogs\\\\Admin\\\\tmp'\n",
    "    destination_folder_working = 'C:\\\\PerfLogs\\\\Admin\\\\working'\n",
    "    invoice_producer = KafkaProducer()\n",
    "    \n",
    "    while(True):\n",
    "        csv_file_path = find_rename_csv_file(directory_path)\n",
    "        if csv_file_path:\n",
    "            try:\n",
    "                wrkpath = move_file(csv_file_path, destination_folder_working)\n",
    "                invoice_producer.start(wrkpath)\n",
    "                wrkpath = move_file(wrkpath, destination_folder)\n",
    "            except:\n",
    "                print(\"waiting 1 minute\")\n",
    "                time.sleep(60)\n",
    "        time.sleep(5)"
   ]
  }
 ],
 "metadata": {
  "kernelspec": {
   "display_name": "Python 3",
   "language": "python",
   "name": "python3"
  },
  "language_info": {
   "codemirror_mode": {
    "name": "ipython",
    "version": 3
   },
   "file_extension": ".py",
   "mimetype": "text/x-python",
   "name": "python",
   "nbconvert_exporter": "python",
   "pygments_lexer": "ipython3",
   "version": "3.11.4"
  }
 },
 "nbformat": 4,
 "nbformat_minor": 2
}
