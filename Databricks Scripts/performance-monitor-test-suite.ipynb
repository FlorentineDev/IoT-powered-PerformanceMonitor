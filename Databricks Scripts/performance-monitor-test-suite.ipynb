{
 "cells": [
  {
   "cell_type": "markdown",
   "metadata": {
    "application/vnd.databricks.v1+cell": {
     "cellMetadata": {
      "byteLimit": 2048000,
      "rowLimit": 10000
     },
     "inputWidgets": {},
     "nuid": "ff6ad8f5-50d9-495a-b56a-b87a89b99880",
     "showTitle": false,
     "title": ""
    }
   },
   "source": [
    "####Install below package in your cluster\n",
    "org.apache.spark:spark-sql-kafka-0-10_2.12:3.5.1"
   ]
  },
  {
   "cell_type": "code",
   "execution_count": 0,
   "metadata": {
    "application/vnd.databricks.v1+cell": {
     "cellMetadata": {
      "byteLimit": 2048000,
      "rowLimit": 10000
     },
     "inputWidgets": {},
     "nuid": "54e30441-b950-41bf-a00e-eb2499bd78f5",
     "showTitle": false,
     "title": ""
    }
   },
   "outputs": [],
   "source": [
    "%run ./performance-monitor-ingestion"
   ]
  },
  {
   "cell_type": "code",
   "execution_count": 0,
   "metadata": {
    "application/vnd.databricks.v1+cell": {
     "cellMetadata": {
      "byteLimit": 2048000,
      "rowLimit": 10000
     },
     "inputWidgets": {},
     "nuid": "43c0b184-9645-4318-b499-06f2f0d018cb",
     "showTitle": false,
     "title": ""
    }
   },
   "outputs": [],
   "source": [
    "base_data_dir = \"/FileStore/xxxx\""
   ]
  },
  {
   "cell_type": "code",
   "execution_count": 0,
   "metadata": {
    "application/vnd.databricks.v1+cell": {
     "cellMetadata": {
      "byteLimit": 2048000,
      "rowLimit": 10000
     },
     "inputWidgets": {},
     "nuid": "962a12fe-8b4f-4467-ad46-f906d4a9224f",
     "showTitle": false,
     "title": ""
    }
   },
   "outputs": [],
   "source": [
    "def cleanTests():\n",
    "    print(f\"Starting Cleanup...\", end='')\n",
    "    spark.sql(\"drop table if exists perfmoningestion\")\n",
    "    dbutils.fs.rm(\"/user/hive/warehouse/perfmoningestion\", True)\n",
    "    dbutils.fs.rm(f\"{base_data_dir}/chekpoint/cpl_perfmoningestion\", True)\n",
    "    print(\"Done\")"
   ]
  },
  {
   "cell_type": "code",
   "execution_count": 0,
   "metadata": {
    "application/vnd.databricks.v1+cell": {
     "cellMetadata": {
      "byteLimit": 2048000,
      "rowLimit": 10000
     },
     "inputWidgets": {},
     "nuid": "42065074-a010-4913-938e-bcd08db46ee1",
     "showTitle": false,
     "title": ""
    }
   },
   "outputs": [],
   "source": [
    "cleanTests()"
   ]
  },
  {
   "cell_type": "code",
   "execution_count": 0,
   "metadata": {
    "application/vnd.databricks.v1+cell": {
     "cellMetadata": {
      "byteLimit": 2048000,
      "rowLimit": 10000
     },
     "inputWidgets": {},
     "nuid": "d1944904-d02b-4026-b250-147887a44374",
     "showTitle": false,
     "title": ""
    }
   },
   "outputs": [],
   "source": [
    "bzStream = Bronze()\n",
    "bzQuery = bzStream.process()"
   ]
  },
  {
   "cell_type": "code",
   "execution_count": 0,
   "metadata": {
    "application/vnd.databricks.v1+cell": {
     "cellMetadata": {
      "byteLimit": 2048000,
      "rowLimit": 10000
     },
     "inputWidgets": {},
     "nuid": "c46f8701-ffd0-4e0a-98bc-d6bb1ece2221",
     "showTitle": false,
     "title": ""
    }
   },
   "outputs": [],
   "source": [
    "df = spark.sql(\"select * from perfmoningestion\")\n",
    "display(df)"
   ]
  },
  {
   "cell_type": "code",
   "execution_count": 0,
   "metadata": {
    "application/vnd.databricks.v1+cell": {
     "cellMetadata": {
      "byteLimit": 2048000,
      "rowLimit": 10000
     },
     "inputWidgets": {},
     "nuid": "03a9b4c0-a3e0-452f-9878-0676a3da09a8",
     "showTitle": false,
     "title": ""
    }
   },
   "outputs": [],
   "source": [
    "## Run to stop the processing\n",
    "bzQuery.stop()"
   ]
  }
 ],
 "metadata": {
  "application/vnd.databricks.v1+notebook": {
   "dashboards": [],
   "language": "python",
   "notebookMetadata": {
    "pythonIndentUnit": 4
   },
   "notebookName": "performance-monitor-test-suite",
   "widgets": {}
  }
 },
 "nbformat": 4,
 "nbformat_minor": 0
}
